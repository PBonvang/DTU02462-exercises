{
 "cells": [
  {
   "cell_type": "markdown",
   "metadata": {},
   "source": [
    "# 1"
   ]
  },
  {
   "cell_type": "code",
   "execution_count": 28,
   "metadata": {},
   "outputs": [
    {
     "name": "stdout",
     "output_type": "stream",
     "text": [
      "a)\n",
      "N(0,1): 0.07965567455405798\n",
      "N(-2,3): 0.021294342816405187\n",
      "N(0,10): 0.007978712629263196\n",
      "\n",
      "b)\n",
      "N(0,1): 0.9973002039367398\n",
      "N(-2,3): 0.9900618049813895\n",
      "N(0,10): 0.9973002039367398\n",
      "\n",
      "c)\n",
      "N(0,1): 0.7631163962487792\n",
      "N(-2,3): 0.3683245306028874\n",
      "N(0,10): 0.7631163962487792\n"
     ]
    }
   ],
   "source": [
    "from scipy.stats import norm\n",
    "\n",
    "print(\"a)\")\n",
    "\n",
    "n1 = norm(0,1)\n",
    "n2 = norm(-2,3)\n",
    "n3 = norm(0,10)\n",
    "\n",
    "def p(distribution, start, end):\n",
    "    return distribution.cdf(end) - distribution.cdf(start)\n",
    "\n",
    "print(\"N(0,1):\",p(n1,-0.1,0.1))\n",
    "print(\"N(-2,3):\",p(n2,-0.1,0.1))\n",
    "print(\"N(0,10):\",p(n3,-0.1,0.1))\n",
    "\n",
    "print(\"\\nb)\")\n",
    "\n",
    "print(\"N(0,1):\",p(n1,-3*1,3*1))\n",
    "print(\"N(-2,3):\",p(n2,-3*3,3*3))\n",
    "print(\"N(0,10):\",p(n3,-3*10,3*10))\n",
    "\n",
    "print(\"\\nc)\")\n",
    "\n",
    "print(\"N(0,1):\",p(n1,-3*1,3*1)**100)\n",
    "print(\"N(-2,3):\",p(n2,-3*3,3*3)**100)\n",
    "print(\"N(0,10):\",p(n3,-3*10,3*10)**100)"
   ]
  },
  {
   "cell_type": "markdown",
   "metadata": {},
   "source": [
    "# 2"
   ]
  },
  {
   "cell_type": "markdown",
   "metadata": {},
   "source": [
    "## 1\n",
    "\n",
    "**a)** It must be $h*w$  \n",
    "**b)** $C=\\frac{1}{h*w}$  \n",
    "**c)** $C=\\frac{1}{\\sum\\limits_{k=1}^{K}h_k\\cdot w_k}$  \n",
    "**d)** $p(x)=\\frac{\\mathbb{I}[x\\in B_k]}{w_k\\cdot h_k}$"
   ]
  },
  {
   "cell_type": "markdown",
   "metadata": {},
   "source": [
    "## 2"
   ]
  },
  {
   "cell_type": "code",
   "execution_count": 40,
   "metadata": {},
   "outputs": [],
   "source": [
    "import numpy as np\n",
    "\n",
    "interval = [-5,5]\n",
    "\n",
    "nbins = 100\n",
    "\n",
    "#split the interval [−5,5] into bins\n",
    "bin_borders = np.linspace(*interval,nbins+1)\n",
    "bin_width = 10./nbins\n",
    "bin_centers = bin_borders[:-1]+0.5*bin_width"
   ]
  },
  {
   "cell_type": "code",
   "execution_count": 51,
   "metadata": {},
   "outputs": [
    {
     "name": "stdout",
     "output_type": "stream",
     "text": [
      "a)\n",
      "b)\n"
     ]
    },
    {
     "data": {
      "image/png": "[encoded data removed]",
      "text/plain": [
       "<Figure size 432x288 with 1 Axes>"
      ]
     },
     "metadata": {
      "needs_background": "light"
     },
     "output_type": "display_data"
    }
   ],
   "source": [
    "import numpy.random as rnd\n",
    "import matplotlib.pyplot as plt\n",
    "\n",
    "print(\"a)\")\n",
    "\n",
    "samples = rnd.normal(0,1,10000)\n",
    "\n",
    "print(\"b)\")\n",
    "plt.hist(samples, nbins)[0]/10000\n",
    "plt.show()"
   ]
  }
 ],
 "metadata": {
  "interpreter": {
   "hash": "e02270ec506be11611404cdf84902bd0a4f31679fc419e981c686c54e5e025ce"
  },
  "kernelspec": {
   "display_name": "Python 3.8.8 ('base')",
   "language": "python",
   "name": "python3"
  },
  "language_info": {
   "codemirror_mode": {
    "name": "ipython",
    "version": 3
   },
   "file_extension": ".py",
   "mimetype": "text/x-python",
   "name": "python",
   "nbconvert_exporter": "python",
   "pygments_lexer": "ipython3",
   "version": "3.8.8"
  },
  "orig_nbformat": 4
 },
 "nbformat": 4,
 "nbformat_minor": 2
}

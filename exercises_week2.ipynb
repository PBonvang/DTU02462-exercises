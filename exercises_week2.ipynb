{
 "cells": [
  {
   "cell_type": "markdown",
   "metadata": {},
   "source": [
    "# Exercise 1.2: Classifying handwritten digits using probability theory"
   ]
  },
  {
   "cell_type": "markdown",
   "metadata": {},
   "source": [
    "### Goals of the exercise"
   ]
  },
  {
   "cell_type": "markdown",
   "metadata": {},
   "source": [
    "- To build a simple classifier for MNIST digits using the material on discrete probability theory from lecture #1 and #2.\n",
    "\n",
    "\n",
    "- Get comfortable with discrete probabilities\n",
    "\n",
    "\n",
    "- Get comfortable with representing images as matrices\n",
    "\n",
    "\n",
    "To keep things simple, we'll focus on classifying zeros and ones.\n"
   ]
  },
  {
   "cell_type": "markdown",
   "metadata": {},
   "source": [
    "### Theory"
   ]
  },
  {
   "cell_type": "markdown",
   "metadata": {},
   "source": [
    "Assume we have a collection of images of handwritten digits: zeros and ones. Let $\\textbf{x}_n \\in \\mathbb{R}^D$ be a $D$-dimensional vector representation of the $n$'th image and let $y_n \\in \\left\\lbrace 0, 1\\right\\rbrace$ be the corresponding label indicating whether the image contains a zero or a one. Each of our images consists $28 \\times 28$ binary pixels, i.e. a total of $28^2 = 784$ pixels. Thus, each image is represented using a $D = 784$ dimensional vector.\n",
    "\n",
    "Assume we have a dataset of $N$ such image-label pairs, i.e. $\\mathcal{D} = \\left\\lbrace (\\textbf{x}_n, y_n) \\right\\rbrace_{n=1}^N$\n",
    "\n",
    "We will use Bayes' theorem to construct a classifier as follows. Let $\\textbf{x}^*$ be a new image to be classified, then our goal is to compute the following two probabilities,\n",
    "\n",
    "$$\\mathbb{P}\\left(Y = 0| \\textbf{X} =\\textbf{x}^*\\right)\\quad\\quad\\text{and}\\quad\\quad\\mathbb{P}\\left(Y = 1 |  \\textbf{X} =\\textbf{x}^*\\right).$$\n",
    "\n",
    "That is, the probability of the digit being a zero (or one) after seeing the image. \n",
    "\n"
   ]
  },
  {
   "cell_type": "markdown",
   "metadata": {},
   "source": [
    "\n",
    "We can now use Bayes' rule to write the probability of interest as follows:\n",
    "\n",
    "$$\\mathbb{P}\\left(Y = 1 |  \\textbf{X} =\\textbf{x}^*\\right) = \\frac{\\mathbb{P}\\left( \\textbf{X} =\\textbf{x}^*\\right|Y = 1)\\mathbb{P}\\left(Y = 1\\right)}{\\mathbb{P}\\left( \\textbf{X} =\\textbf{x}^*\\right)}.\\tag{1}$$\n",
    "\n",
    "Let $x^*_{1}, x^*_{2}, \\dots, x^*_{784}$ denote all the $784$ binary pixel values in the image $\\textbf{x}^* = \\left[x^*_{1}, x^*_{2}, \\dots, x^*_{784}\\right]$. Then we can re-write eq. (1) as follows\n",
    "\n",
    "$$\\mathbb{P}\\left(Y = 1 |  X_1 = x^*_{1}, X_2 = x^*_{2}, \\dots, X_{784} = x^*_{784}\\right) = \\frac{\\mathbb{P}\\left(  X_1 = x^*_{1}, X_2 = x^*_{2}, \\dots, X_{784} = x^*_{784}|Y = 1\\right)\\mathbb{P}\\left(Y = 1\\right)}{\\mathbb{P}\\left( X_1 = x^*_{1}, X_2 = x^*_{2}, \\dots, X_{784} = x^*_{784}\\right)}.\\tag{2}$$\n",
    "\n",
    "This equation expresses the probability that the image contains the digit '1' given that the image, $\\textbf{x}^*$, consists of the pixel values specificied by $x^*_{1}, x^*_{2}, \\dots, x^*_{784}$. \n",
    "\n",
    "As we have seen in the lecture, eq. (1) is intractable because we would need to evaluate $2^{784}$ values, so instead we will approximate using a Naı̈ve-Bayes approximation:\n",
    "\n",
    "$$\\mathbb{P}\\left(  X_1 = x^*_{1}, X_2 = x^*_{2}, \\dots, X_{784} = x^*_{784}|Y = 1\\right) \\approx \\prod_{i=1}^{784}\\mathbb{P}\\left(  X_i = x^*_{i}|Y = 1\\right).\\tag{3}$$\n",
    "\n",
    "**Question 1.1: Explain in you own words why this approximation is called \"naive\"**  \n",
    "Answer: The approximation is naive because it assumes all variables, in this case pixels, are independent, which is rarely the case for variables and especially pixels."
   ]
  },
  {
   "cell_type": "markdown",
   "metadata": {},
   "source": [
    "To use Bayes' theorem for classification, we need to compute the three components on the right hand side. Let's set  the terminology first:\n",
    "\n",
    "- The factor $\\mathbb{P}\\left(Y=1\\right)$ is **prior** probability of seeing an image of the digit '1'.  \n",
    "\n",
    "\n",
    "- The factor $\\mathbb{P}\\left(  X_1 = x^*_{1}, X_2 = x^*_{2}, \\dots, X_{784} = x^*_{784}|Y = 1\\right)$ is the **likelihood** of seeing the specific combination of pixels given the image contains the digit '1'.\n",
    "\n",
    "\n",
    "- The denominator $\\mathbb{P}\\left( X_1 = x^*_{1}, X_2 = x^*_{2}, \\dots, X_{784} = x^*_{784}\\right)$ is the **evidence** or **marginal likelihood**, i.e. the probability of seeing this specific pixel combination across both labels.\n",
    "\n",
    "Now, we will derive the corresponding approximation for the denominator, i.e. the evidence. We have\n",
    "\n",
    "$\\begin{align}\n",
    "\\mathbb{P}\\left( X_1 = x^*_{1}, X_2 = x^*_{2}, \\dots, X_{784} = x^*_{784}\\right) &\\stackrel{(a)}{=} \\mathbb{P}\\left( X_1 = x^*_{1}, X_2 = x^*_{2}, \\dots, X_{784} = x^*_{784}|Y=1\\right)\\mathbb{P}(Y=1)\\\\ &\\quad + \\mathbb{P}\\left( X_1 = x^*_{1}, X_2 = x^*_{2}, \\dots, X_{784} = x^*_{784}|Y=0\\right)\\mathbb{P}(Y=0)\\\\\n",
    "%\n",
    "&\\stackrel{(b)}{\\approx} \\prod_{i=1}^{784}\\mathbb{P}\\left(  X_i = x^*_{i}|Y = 1\\right)\\mathbb{P}(Y=1) + \\prod_{i=1}^{784}\\mathbb{P}\\left(  X_i = x^*_{i}|Y = 0\\right)\\mathbb{P}(Y=0)\\\\\n",
    "%\n",
    "&\\stackrel{(c)}{=} \\mathbb{P}(Y=1)\\prod_{i=1}^{784}\\mathbb{P}\\left(  X_i = x^*_{i}|Y = 1\\right) + \\mathbb{P}(Y=0)\\prod_{i=1}^{784}\\mathbb{P}\\left(  X_i = x^*_{i}|Y = 0\\right). \\tag{4}\\\\\n",
    "\\end{align}$\n",
    "\n",
    "In the derivation above, we have used the following three properties:\n",
    "\n",
    "1) The Naı̈ve-Bayes assumption  \n",
    "\n",
    "2) The law of total probability  \n",
    "\n",
    "3) The basic multiplication properties of real numbers  \n",
    "\n",
    "\n",
    "***Question 1.2: In the derivation above, we have used each of the these three properties. Work through the derivation and deduce which property is used in which line. That is, you should match (a), (b), and (c) above with the properties 1), 2) and 3) above. ***\n",
    "\n"
   ]
  },
  {
   "cell_type": "markdown",
   "metadata": {},
   "source": [
    "Answer:  \n",
    "a: 2  \n",
    "b: 1  \n",
    "c: 3  "
   ]
  },
  {
   "cell_type": "markdown",
   "metadata": {},
   "source": [
    "### Loading the data"
   ]
  },
  {
   "cell_type": "code",
   "execution_count": 1,
   "metadata": {},
   "outputs": [],
   "source": [
    "from __future__ import division\n",
    "import numpy as np\n",
    "import pylab as plt\n",
    "from mpl_toolkits.axes_grid1 import make_axes_locatable\n",
    "\n",
    "np.random.seed(0)"
   ]
  },
  {
   "cell_type": "code",
   "execution_count": 2,
   "metadata": {},
   "outputs": [
    {
     "name": "stdout",
     "output_type": "stream",
     "text": [
      "The shape of X is (14780, 784)\n",
      "The shape of y is (14780)\n",
      "\n",
      "Number of images: 14780\n",
      "Number of pixels: 784\n"
     ]
    }
   ],
   "source": [
    "# load data\n",
    "data = np.load('./mnist_bin_zeros_ones.npz')\n",
    "\n",
    "# get vector representation of binary digits\n",
    "X = data['X']\n",
    "\n",
    "# get binary labels\n",
    "y = data['y']\n",
    "\n",
    "print('The shape of X is (%d, %d)' % X.shape)\n",
    "print('The shape of y is (%d)\\n' % y.shape)\n",
    "\n",
    "# Dimensions\n",
    "N, D = X.shape\n",
    "\n",
    "print('Number of images: %d' % N)\n",
    "print('Number of pixels: %d' % D)"
   ]
  },
  {
   "cell_type": "markdown",
   "metadata": {},
   "source": [
    "### Representing images using vectors"
   ]
  },
  {
   "cell_type": "markdown",
   "metadata": {},
   "source": [
    "An image from the MNIST dataset consists of $28 \\times 28$ pixels and is naturally represented as a $28 \\times 28$. This representation makes it easy for us to plot and visualize the image. However, in signal processing and machine learning, it is usually more convinient to represent data as vectors rather than matrices. This makes it possible for us to use the tools from our machine learning toolbox on many different types of data. Therefore, we use a vector representation for the images in this exercise. \n",
    "\n",
    "To go from the matrix representation to the vector representation, we basically take all the $28$ columns in the image matrix and stack them on top of each other. The result is a $28^2 = 784$ dimensional vector. Similarly, if we want to go from the image vector representation to the image matrix representation, we take the $784$ dimensional vector and divide it into $28$ smaller $28$ dimensional vectors and stack them side by side to form a $28 \\times 28$ matrix.\n",
    "\n",
    "As shown above, the matrix $\\mathbf{X}$ is matrix with $14780$ rows and $784$ columns. Each row corresponds to a separate image and each column corresponds to a specific pixel. That is, $X_{i,j}$, refers to the $j$'th pixel in the $i$'th image and each image is a now vector in $\\mathbb{R}^{784}$.\n",
    "\n",
    "The function show_image will take a $784$-dimensional vector and reshape it into a $28\\times28$ matrix before plotting it."
   ]
  },
  {
   "cell_type": "code",
   "execution_count": 4,
   "metadata": {},
   "outputs": [],
   "source": [
    "def show_image(x, title=\"\", clim=None, cmap=plt.cm.gray, colorbar=False):\n",
    "    ax = plt.gca()\n",
    "    im = ax.imshow(x.reshape((28, 28)), cmap=cmap, clim=clim)\n",
    "    \n",
    "    if len(title) > 0:\n",
    "        plt.title(title)\n",
    "        \n",
    "    plt.axis('off')\n",
    "    \n",
    "    if colorbar:\n",
    "        divider = make_axes_locatable(ax)\n",
    "        cax = divider.append_axes(\"right\", size=\"5%\", pad=0.05)\n",
    "        plt.colorbar(im, cax=cax)"
   ]
  },
  {
   "cell_type": "markdown",
   "metadata": {},
   "source": [
    "### Let's inspect a some of the zeros and ones"
   ]
  },
  {
   "cell_type": "code",
   "execution_count": 5,
   "metadata": {},
   "outputs": [
    {
     "data": {
      "image/png": "[encoded data removed]",
      "text/plain": [
       "<Figure size 1440x576 with 18 Axes>"
      ]
     },
     "metadata": {
      "needs_background": "light"
     },
     "output_type": "display_data"
    }
   ],
   "source": [
    "num_images_per_row = 6\n",
    "num_rows = 3\n",
    "num_images = num_images_per_row * num_rows\n",
    "\n",
    "plt.figure(figsize=(20, 8))\n",
    "for i in range(num_images):\n",
    "    plt.subplot(num_rows, num_images_per_row, 1 + i)\n",
    "    show_image(X[i],f\"img_{i+1}: {y[i]}\")\n"
   ]
  },
  {
   "cell_type": "markdown",
   "metadata": {},
   "source": [
    "### Another way to visualize a binary digit"
   ]
  },
  {
   "cell_type": "code",
   "execution_count": 6,
   "metadata": {},
   "outputs": [
    {
     "name": "stdout",
     "output_type": "stream",
     "text": [
      "[[0 0 0 0 0 0 0 0 0 0 0 0 0 0 0 0 0 0 0 0 0 0 0 0 0 0 0 0]\n",
      " [0 0 0 0 0 0 0 0 0 0 0 0 0 0 0 0 0 0 0 0 0 0 0 0 0 0 0 0]\n",
      " [0 0 0 0 0 0 0 0 0 0 0 0 0 0 0 0 0 0 0 0 0 0 0 0 0 0 0 0]\n",
      " [0 0 0 0 0 0 0 0 0 0 0 0 0 0 0 0 0 0 0 0 0 0 0 0 0 0 0 0]\n",
      " [0 0 0 0 0 0 0 0 0 0 0 0 0 0 0 0 1 1 1 0 0 0 0 0 0 0 0 0]\n",
      " [0 0 0 0 0 0 0 0 0 0 0 0 0 0 0 1 1 1 1 1 0 0 0 0 0 0 0 0]\n",
      " [0 0 0 0 0 0 0 0 0 0 0 0 0 0 1 1 1 1 1 1 0 0 0 0 0 0 0 0]\n",
      " [0 0 0 0 0 0 0 0 0 0 0 0 0 1 1 1 1 1 0 1 1 0 0 0 0 0 0 0]\n",
      " [0 0 0 0 0 0 0 0 0 0 0 1 1 1 1 1 1 1 0 1 1 1 0 0 0 0 0 0]\n",
      " [0 0 0 0 0 0 0 0 0 0 0 1 1 1 1 0 1 1 0 0 1 1 0 0 0 0 0 0]\n",
      " [0 0 0 0 0 0 0 0 0 0 1 1 1 1 0 0 0 0 0 0 1 1 0 0 0 0 0 0]\n",
      " [0 0 0 0 0 0 0 0 0 1 1 1 1 0 0 0 0 0 0 0 1 1 1 0 0 0 0 0]\n",
      " [0 0 0 0 0 0 0 0 1 1 1 0 0 0 0 0 0 0 0 0 1 1 1 0 0 0 0 0]\n",
      " [0 0 0 0 0 0 0 0 1 1 0 0 0 0 0 0 0 0 0 0 1 1 1 0 0 0 0 0]\n",
      " [0 0 0 0 0 0 0 1 1 1 0 0 0 0 0 0 0 0 0 0 1 1 1 0 0 0 0 0]\n",
      " [0 0 0 0 0 0 0 1 1 0 0 0 0 0 0 0 0 0 0 0 1 1 1 0 0 0 0 0]\n",
      " [0 0 0 0 0 0 0 1 1 0 0 0 0 0 0 0 0 0 0 1 1 1 0 0 0 0 0 0]\n",
      " [0 0 0 0 0 0 0 1 1 0 0 0 0 0 0 0 0 0 1 1 1 0 0 0 0 0 0 0]\n",
      " [0 0 0 0 0 0 0 1 1 0 0 0 0 0 0 0 0 1 1 1 0 0 0 0 0 0 0 0]\n",
      " [0 0 0 0 0 0 0 1 1 0 0 0 0 0 0 0 1 1 1 0 0 0 0 0 0 0 0 0]\n",
      " [0 0 0 0 0 0 0 1 1 1 0 0 0 1 1 1 1 1 0 0 0 0 0 0 0 0 0 0]\n",
      " [0 0 0 0 0 0 0 1 1 1 1 1 1 1 1 1 1 0 0 0 0 0 0 0 0 0 0 0]\n",
      " [0 0 0 0 0 0 0 1 1 1 1 1 1 1 1 0 0 0 0 0 0 0 0 0 0 0 0 0]\n",
      " [0 0 0 0 0 0 0 0 1 1 1 1 1 0 0 0 0 0 0 0 0 0 0 0 0 0 0 0]\n",
      " [0 0 0 0 0 0 0 0 0 0 0 0 0 0 0 0 0 0 0 0 0 0 0 0 0 0 0 0]\n",
      " [0 0 0 0 0 0 0 0 0 0 0 0 0 0 0 0 0 0 0 0 0 0 0 0 0 0 0 0]\n",
      " [0 0 0 0 0 0 0 0 0 0 0 0 0 0 0 0 0 0 0 0 0 0 0 0 0 0 0 0]\n",
      " [0 0 0 0 0 0 0 0 0 0 0 0 0 0 0 0 0 0 0 0 0 0 0 0 0 0 0 0]]\n"
     ]
    }
   ],
   "source": [
    "print(X[0].reshape((28, 28)).astype('int'))"
   ]
  },
  {
   "cell_type": "markdown",
   "metadata": {},
   "source": [
    "**Question 1.3: Which digit is shown above?**  \n",
    "Answer: 0"
   ]
  },
  {
   "cell_type": "markdown",
   "metadata": {},
   "source": [
    "### Split into training and test"
   ]
  },
  {
   "cell_type": "markdown",
   "metadata": {},
   "source": [
    "Now we will split our data into a training and a test set."
   ]
  },
  {
   "cell_type": "code",
   "execution_count": 7,
   "metadata": {},
   "outputs": [
    {
     "name": "stdout",
     "output_type": "stream",
     "text": [
      "Total number of images:\t\t14780\n",
      "Number of training images:\t11824\n",
      "Number of test images:\t\t2956\n"
     ]
    }
   ],
   "source": [
    "N = len(X)\n",
    "N_train = int(0.8*N)\n",
    "N_test = N-N_train\n",
    "\n",
    "# create a random permutation for splitting into training and test\n",
    "randperm = np.random.permutation(N)\n",
    "\n",
    "# split into training and test\n",
    "train_idx = randperm[:N_train]\n",
    "test_idx = randperm[N_train:]\n",
    "Xtrain, Xtest = X[train_idx, :], X[test_idx, :]\n",
    "ytrain, ytest = y[train_idx], y[test_idx]\n",
    "\n",
    "print('Total number of images:\\t\\t%d' % N)\n",
    "print('Number of training images:\\t%d' % N_train)\n",
    "print('Number of test images:\\t\\t%d' % N_test)"
   ]
  },
  {
   "cell_type": "markdown",
   "metadata": {},
   "source": [
    "### Fitting the Naı̈ve-Bayes model to training set: the prior"
   ]
  },
  {
   "cell_type": "markdown",
   "metadata": {},
   "source": [
    "We are now ready to estimate the probabilities from our training set. First, we will estimate the prior probabilities, $\\mathbb{P}(Y=0)$ and $\\mathbb{P}(Y=1)$:"
   ]
  },
  {
   "cell_type": "code",
   "execution_count": 8,
   "metadata": {},
   "outputs": [
    {
     "name": "stdout",
     "output_type": "stream",
     "text": [
      "Number of training digits:\t11824\n",
      "Number of zeros:\t\t5507\n",
      "Number of ones:\t\t\t6317\n",
      "\n",
      "Prior probability of seeing a zero:\tp(Y = 0)  = 5507/11824 = 0.47\n",
      "Prior probability of seeing a one:\tp(Y = 1)  = 6317/11824 = 0.53\n"
     ]
    }
   ],
   "source": [
    "# count the number of zeros and ones\n",
    "count_zeros = np.sum(ytrain == 0)\n",
    "count_ones = np.sum(ytrain == 1)\n",
    "\n",
    "# compute prior prob.: P(Y=0) and P(Y=1)  using difinition of the probability (frequincy)\n",
    "prob_zeros = count_zeros/N_train\n",
    "prob_ones = count_ones/N_train\n",
    "\n",
    "# let's store both probabilities in a vector\n",
    "prior = [prob_zeros, prob_ones]\n",
    "\n",
    "print('Number of training digits:\\t%d' % N_train)\n",
    "print('Number of zeros:\\t\\t%d' % count_zeros)\n",
    "print('Number of ones:\\t\\t\\t%d' % count_ones)\n",
    "print('')\n",
    "\n",
    "print('Prior probability of seeing a zero:\\tp(Y = 0)  = %d/%d = %3.2f' % (count_zeros, N_train, prob_zeros))\n",
    "print('Prior probability of seeing a one:\\tp(Y = 1)  = %d/%d = %3.2f' % (count_ones, N_train, prob_ones))"
   ]
  },
  {
   "cell_type": "markdown",
   "metadata": {},
   "source": [
    "### Fitting the Naı̈ve-Bayes model to training set: the likelihood"
   ]
  },
  {
   "cell_type": "markdown",
   "metadata": {},
   "source": [
    "Next, we will compute the likelihood probabilities required for Naı̈ve-Bayes for classification using our training set. We need to estimate the probabilities $\\mathbb{P}\\left(  X_i = x^*_{i}|Y = 1\\right)$ and $\\mathbb{P}\\left(  X_i = x^*_{i}|Y = 0\\right)$ for $i = 1, \\dots, 784$ as shown in eq. (3) above. \n",
    "\n",
    "Because the images are binary, for each pixel we only need to estimate the probability $\\mathbb{P}\\left(  X_i = 1|Y = 1\\right)$ and then we can calculate the probability of the complement as follows\n",
    "\n",
    "$$\\mathbb{P}\\left(  X_i = 0|Y = 1\\right) = 1 - \\mathbb{P}\\left(  X_i = 1|Y = 1\\right)$$\n",
    "\n",
    "\n",
    "Let's do the calculations! First, we will split our training data into zeros and ones:\n",
    "\n"
   ]
  },
  {
   "cell_type": "code",
   "execution_count": 24,
   "metadata": {},
   "outputs": [
    {
     "name": "stdout",
     "output_type": "stream",
     "text": [
      "[[0 0 0 0 0 0 0 0 0 0 0 0 0 0 0 0 0 0 0 0 0 0 0 0 0 0 0 0]\n",
      " [0 0 0 0 0 0 0 0 0 0 0 0 0 0 0 0 0 0 0 0 0 0 0 0 0 0 0 0]\n",
      " [0 0 0 0 0 0 0 0 0 0 0 0 0 0 0 0 0 0 0 0 0 0 0 0 0 0 0 0]\n",
      " [0 0 0 0 0 0 0 0 0 0 0 0 0 0 0 0 0 0 0 0 0 0 0 0 0 0 0 0]\n",
      " [0 0 0 0 0 0 0 0 0 0 0 1 1 0 0 0 0 0 0 0 0 0 0 0 0 0 0 0]\n",
      " [0 0 0 0 0 0 0 0 0 0 1 1 1 0 0 0 0 0 0 0 0 0 0 0 0 0 0 0]\n",
      " [0 0 0 0 0 0 0 0 0 0 1 1 1 0 0 0 0 0 0 0 0 0 0 0 0 0 0 0]\n",
      " [0 0 0 0 0 0 0 0 0 1 1 1 0 0 1 1 1 0 0 0 0 0 0 0 0 0 0 0]\n",
      " [0 0 0 0 0 0 0 0 0 1 1 0 0 0 1 1 1 1 1 1 0 0 0 0 0 0 0 0]\n",
      " [0 0 0 0 0 0 0 0 0 1 1 0 0 1 1 0 1 1 1 1 1 0 0 0 0 0 0 0]\n",
      " [0 0 0 0 0 0 0 0 0 1 1 0 0 0 0 0 0 0 1 1 1 0 0 0 0 0 0 0]\n",
      " [0 0 0 0 0 0 0 0 1 1 0 0 0 0 0 0 0 1 1 1 1 1 0 0 0 0 0 0]\n",
      " [0 0 0 0 0 0 0 0 1 1 0 0 0 0 0 0 1 1 1 0 1 1 0 0 0 0 0 0]\n",
      " [0 0 0 0 0 0 0 0 1 1 0 0 0 0 0 1 1 1 0 0 1 1 0 0 0 0 0 0]\n",
      " [0 0 0 0 0 0 0 0 1 1 0 0 0 0 1 1 1 1 0 0 1 1 0 0 0 0 0 0]\n",
      " [0 0 0 0 0 0 0 0 1 1 0 0 0 0 1 1 1 0 0 0 1 1 0 0 0 0 0 0]\n",
      " [0 0 0 0 0 0 0 0 1 1 0 0 0 1 1 1 0 0 0 1 1 1 0 0 0 0 0 0]\n",
      " [0 0 0 0 0 0 0 0 1 1 0 0 0 1 1 0 0 0 0 1 1 1 0 0 0 0 0 0]\n",
      " [0 0 0 0 0 0 0 0 1 1 1 0 1 1 1 0 0 0 0 1 1 0 0 0 0 0 0 0]\n",
      " [0 0 0 0 0 0 0 0 0 1 1 0 1 1 1 0 0 0 1 1 1 0 0 0 0 0 0 0]\n",
      " [0 0 0 0 0 0 0 0 0 1 1 1 1 1 0 0 0 1 1 1 0 0 0 0 0 0 0 0]\n",
      " [0 0 0 0 0 0 0 0 0 0 1 1 1 0 0 1 1 1 1 0 0 0 0 0 0 0 0 0]\n",
      " [0 0 0 0 0 0 0 0 0 0 1 1 1 1 1 1 1 1 1 0 0 0 0 0 0 0 0 0]\n",
      " [0 0 0 0 0 0 0 0 0 0 0 0 1 1 1 1 1 0 0 0 0 0 0 0 0 0 0 0]\n",
      " [0 0 0 0 0 0 0 0 0 0 0 0 0 0 0 0 0 0 0 0 0 0 0 0 0 0 0 0]\n",
      " [0 0 0 0 0 0 0 0 0 0 0 0 0 0 0 0 0 0 0 0 0 0 0 0 0 0 0 0]\n",
      " [0 0 0 0 0 0 0 0 0 0 0 0 0 0 0 0 0 0 0 0 0 0 0 0 0 0 0 0]\n",
      " [0 0 0 0 0 0 0 0 0 0 0 0 0 0 0 0 0 0 0 0 0 0 0 0 0 0 0 0]]\n"
     ]
    }
   ],
   "source": [
    "Xtrain_zeros = Xtrain[ytrain == 0, :]\n",
    "Xtrain_ones = Xtrain[ytrain == 1, :]\n",
    "print(Xtrain_zeros[0].reshape((28, 28)).astype('int'))"
   ]
  },
  {
   "cell_type": "markdown",
   "metadata": {},
   "source": [
    "and then we will estimate the probabilities for all pixels at once using the following two lines of code:"
   ]
  },
  {
   "cell_type": "code",
   "execution_count": 22,
   "metadata": {},
   "outputs": [],
   "source": [
    "# fit model for zeros and ones separately\n",
    "p_zeros = np.mean(Xtrain_zeros, axis=0)\n",
    "p_ones = np.mean(Xtrain_ones, axis=0)"
   ]
  },
  {
   "cell_type": "markdown",
   "metadata": {},
   "source": [
    "Now the array p_zeros contains all the probabilities $\\mathbb{P}\\left(  X_i = 1|Y = 0\\right)$ such that p_zeros[0] = $\\mathbb{P}\\left(  X_1 = 1|Y = 0\\right)$, p_zeros[1] = $\\mathbb{P}\\left(  X_2 = 1|Y = 0\\right)$  etc. and similar for the array p_ones."
   ]
  },
  {
   "cell_type": "markdown",
   "metadata": {},
   "source": [
    "***Question 2.1: Explain what happens in the two lines above and why it is equivalent to estimating the probabilities $\\mathbb{P}\\left(  X_i = 1|Y = 0\\right)$ and $\\mathbb{P}\\left(X_i = 1|Y = 1\\right)$***"
   ]
  },
  {
   "cell_type": "markdown",
   "metadata": {},
   "source": [
    "Answer: The first two lines creates two arrays one for each class (0/1), containing only the class samples. The arrays shape will be: (amount of samples in class, amount of pixels in sample image).  \n",
    "Because the only pixel values are 0 and 1, the mean of a specific pixels values in all samples, is the same as calculating the probability of the pixel being 1 in the given class."
   ]
  },
  {
   "cell_type": "markdown",
   "metadata": {},
   "source": [
    "### Visualizing the probabilities"
   ]
  },
  {
   "cell_type": "markdown",
   "metadata": {},
   "source": [
    "Let's plot the estimated probability for each pixel for each of the two digits."
   ]
  },
  {
   "cell_type": "code",
   "execution_count": 25,
   "metadata": {},
   "outputs": [
    {
     "data": {
      "image/png": "[encoded data removed]",
      "text/plain": [
       "<Figure size 1440x432 with 4 Axes>"
      ]
     },
     "metadata": {
      "needs_background": "light"
     },
     "output_type": "display_data"
    }
   ],
   "source": [
    "# visualize models\n",
    "plt.figure(figsize=(20, 6))\n",
    "plt.subplot(1, 2, 1)\n",
    "show_image(p_zeros, title='$\\mathbb{P}(x_i = 1|Y=0)$', clim=(0, 1), colorbar=True, cmap=plt.cm.RdBu_r)\n",
    "\n",
    "plt.subplot(1, 2, 2)\n",
    "show_image(p_ones, title='$\\mathbb{P}(x_i = 1|Y=1)$', clim=(0, 1), colorbar=True, cmap=plt.cm.RdBu_r)\n"
   ]
  },
  {
   "cell_type": "markdown",
   "metadata": {},
   "source": [
    "The image on the left shows the probabilities $\\mathbb{P}(x_i = 1|Y=0)$ for each pixel. Dark red corresponds to a probability clsoe to 1, dark blue corresponds to a probability clsoe to 0, while white corresponds to a probability of 0.5."
   ]
  },
  {
   "cell_type": "markdown",
   "metadata": {},
   "source": [
    "***Question 2.2: Explain in your own words what you are seeing on the two figures. How do the figures relate to the equations?***  \n",
    "Answer: I see that the probability of a one having a 0 pixel outside the middle of the image is 0. The figures show the probability a pixel being in each class. \n",
    "\n",
    "***Question 2.3: Why is the model for the digit-1 almost shaped like an X?***  \n",
    "Answer: Because the training data contains a lot of 1 samples with different angles\n",
    "\n",
    "Hint: Look at the training images above\n"
   ]
  },
  {
   "cell_type": "markdown",
   "metadata": {},
   "source": [
    "### Let's classify a few training images"
   ]
  },
  {
   "cell_type": "code",
   "execution_count": 26,
   "metadata": {},
   "outputs": [
    {
     "data": {
      "image/png": "[encoded data removed]",
      "text/plain": [
       "<Figure size 1440x288 with 5 Axes>"
      ]
     },
     "metadata": {
      "needs_background": "light"
     },
     "output_type": "display_data"
    }
   ],
   "source": [
    "image_idxs_to_be_classified = [100, 1724, 6242, 7164, 0]\n",
    "\n",
    "plt.figure(figsize=(20, 4))\n",
    "for plot_idx, image_idx in enumerate(image_idxs_to_be_classified):\n",
    "    plt.subplot(1, 5, 1 + plot_idx)\n",
    "    show_image(Xtrain[image_idx], title='Image to be classified (idx %d)' % image_idx)"
   ]
  },
  {
   "cell_type": "markdown",
   "metadata": {},
   "source": [
    "The following function compute the likelihood of the image based on the vector of probabilities: p_digit. This means computing the product in eq. (3) above. However, since the probabilities are number between 0 and 1, the product of 784 probabilities can result in a very small number that causes numeric underflow. Therefore, for numeric stability, we will carry out the computations in the logaritmic domain."
   ]
  },
  {
   "cell_type": "code",
   "execution_count": 27,
   "metadata": {},
   "outputs": [
    {
     "name": "stdout",
     "output_type": "stream",
     "text": [
      "Image idx: 100\n",
      "p(x_new | Y=0): 2.74e-97\n",
      "p(x_new | Y=1): 4.35e-118\n",
      "\n",
      "\n",
      "Image idx: 1724\n",
      "p(x_new | Y=0): 2.16e-97\n",
      "p(x_new | Y=1): 1.56e-97\n",
      "\n",
      "\n",
      "Image idx: 6242\n",
      "p(x_new | Y=0): 1.86e-98\n",
      "p(x_new | Y=1): 2.82e-99\n",
      "\n",
      "\n",
      "Image idx: 7164\n",
      "p(x_new | Y=0): 2.13e-88\n",
      "p(x_new | Y=1): 6.27e-89\n",
      "\n",
      "\n",
      "Image idx: 0\n",
      "p(x_new | Y=0): 1.39e-135\n",
      "p(x_new | Y=1): 1.63e-52\n",
      "\n",
      "\n"
     ]
    }
   ],
   "source": [
    "def log_likelihood(x_new, p_digit):\n",
    "    pixel_log_lik = x_new*np.log(p_digit + 1e-16) + (1-x_new)*np.log(1-p_digit)\n",
    "    return np.sum(pixel_log_lik)\n",
    "    \n",
    "for image_idx in image_idxs_to_be_classified:\n",
    "    x_new = Xtrain[image_idx]\n",
    "    print('Image idx: %d' % image_idx)\n",
    "    print('p(x_new | Y=0): %3.2e' % np.exp(log_likelihood(x_new, p_zeros)) )\n",
    "    print('p(x_new | Y=1): %3.2e' % np.exp(log_likelihood(x_new, p_ones)))\n",
    "    print('\\n')"
   ]
  },
  {
   "cell_type": "markdown",
   "metadata": {},
   "source": [
    "### Implementing Bayes's theorem"
   ]
  },
  {
   "cell_type": "markdown",
   "metadata": {},
   "source": [
    "The function below computes and returns the two probabilities: $\\mathbb{P}(Y=0|\\mathbf{x}^*)$ and $\\mathbb{P}(Y=1|\\mathbf{x}^*)$"
   ]
  },
  {
   "cell_type": "code",
   "execution_count": 28,
   "metadata": {},
   "outputs": [
    {
     "name": "stdout",
     "output_type": "stream",
     "text": [
      "Image idx: 100\n",
      "p(Y=0 | x_new): 1.000\n",
      "p(Y=1 | x_new): 0.000\n",
      "\n",
      "Image idx: 1724\n",
      "p(Y=0 | x_new): 0.547\n",
      "p(Y=1 | x_new): 0.453\n",
      "\n",
      "Image idx: 6242\n",
      "p(Y=0 | x_new): 0.852\n",
      "p(Y=1 | x_new): 0.148\n",
      "\n",
      "Image idx: 7164\n",
      "p(Y=0 | x_new): 0.748\n",
      "p(Y=1 | x_new): 0.252\n",
      "\n",
      "Image idx: 0\n",
      "p(Y=0 | x_new): 0.000\n",
      "p(Y=1 | x_new): 1.000\n",
      "\n"
     ]
    }
   ],
   "source": [
    "def compute_posterior_prob(x_new):\n",
    "    \n",
    "    # compute log likelihood\n",
    "    log_lik_zeros = log_likelihood(x_new, p_zeros)\n",
    "    log_lik_ones = log_likelihood(x_new, p_ones)\n",
    "    \n",
    "    # having avoided numerical underflow, we can safely exponentiate data\n",
    "    lik_zeros = np.exp(log_lik_zeros)\n",
    "    lik_ones = np.exp(log_lik_ones)\n",
    "    \n",
    "    # implement eq. (4)\n",
    "    term_zeros = lik_zeros*prior[0]\n",
    "    term_ones = lik_ones*prior[1]\n",
    "    evidence = term_zeros + term_ones\n",
    "    \n",
    "    # implements eq. (1)\n",
    "    post_prob_one = term_ones/evidence\n",
    "    \n",
    "    # we know P(Y=1|x) + P(Y=0|x) = 1. Therefore,\n",
    "    post_prob_zero = 1 - post_prob_one\n",
    "    \n",
    "    # return P(Y=0|x) and P(Y=1|x)\n",
    "    return post_prob_zero, post_prob_one\n",
    "\n",
    "for image_idx in image_idxs_to_be_classified:\n",
    "    x_new = Xtrain[image_idx]\n",
    "\n",
    "    print('Image idx: %d' % image_idx)\n",
    "    print('p(Y=0 | x_new): %4.3f' % compute_posterior_prob(x_new)[0]) \n",
    "    print('p(Y=1 | x_new): %4.3f' % compute_posterior_prob(x_new)[1])    \n",
    "    print('')"
   ]
  },
  {
   "cell_type": "code",
   "execution_count": 29,
   "metadata": {},
   "outputs": [
    {
     "data": {
      "image/png": "[encoded data removed]",
      "text/plain": [
       "<Figure size 1440x288 with 5 Axes>"
      ]
     },
     "metadata": {
      "needs_background": "light"
     },
     "output_type": "display_data"
    }
   ],
   "source": [
    "plt.figure(figsize=(20, 4))\n",
    "for plot_idx, image_idx in enumerate(image_idxs_to_be_classified):\n",
    "    plt.subplot(1, 5, 1 + plot_idx)\n",
    "    x_new = Xtrain[image_idx]\n",
    "    p0, p1 = compute_posterior_prob(x_new)\n",
    "    show_image(Xtrain[image_idx], title='P(Y=1|x_new) = %4.3f' % p1)"
   ]
  },
  {
   "cell_type": "markdown",
   "metadata": {},
   "source": [
    "### A simple classification rule"
   ]
  },
  {
   "cell_type": "markdown",
   "metadata": {},
   "source": [
    "We will use the following simple classification rule: \n",
    "\n",
    "If $\\mathbb{P}\\left(Y = 1 |  \\textbf{X} =\\textbf{x}^*\\right) > 0.5$, then we classify $\\textbf{x}^*$ as a one, and otherwise a zero.\n"
   ]
  },
  {
   "cell_type": "code",
   "execution_count": 30,
   "metadata": {},
   "outputs": [],
   "source": [
    "def classify(x):\n",
    "    p0, p1 = compute_posterior_prob(x)\n",
    "    predicted_label = np.argmax((p0, p1))\n",
    "    return predicted_label\n",
    "    "
   ]
  },
  {
   "cell_type": "markdown",
   "metadata": {},
   "source": [
    "### Let's test it on a bunch of digits"
   ]
  },
  {
   "cell_type": "code",
   "execution_count": 31,
   "metadata": {},
   "outputs": [
    {
     "data": {
      "image/png": "[encoded data removed]",
      "text/plain": [
       "<Figure size 1440x576 with 18 Axes>"
      ]
     },
     "metadata": {
      "needs_background": "light"
     },
     "output_type": "display_data"
    }
   ],
   "source": [
    "plt.figure(figsize=(20, 8))\n",
    "for i in range(num_images):\n",
    "    plt.subplot(num_rows, num_images_per_row, 1 + i)\n",
    "    \n",
    "    # compute posterior probabilities\n",
    "    p0, p1 = compute_posterior_prob(Xtest[i, :])\n",
    "    \n",
    "    # get true label and predicted label\n",
    "    true_label = ytest[i]\n",
    "    predicted_label = classify(Xtest[i, :])\n",
    "    \n",
    "    # show image \n",
    "    show_image(Xtest[i, :])\n",
    "    \n",
    "    # if the classification is correct, use green otherwise use red \n",
    "    if true_label == predicted_label:\n",
    "        color = 'green'\n",
    "    else:\n",
    "        color = 'red'\n",
    "    \n",
    "    plt.title('p(Y|x) = (%2.1f, %2.1f)' % (p0, p1), color=color)\n",
    "    \n"
   ]
  },
  {
   "cell_type": "markdown",
   "metadata": {},
   "source": [
    "### Let's compute the training and test errors"
   ]
  },
  {
   "cell_type": "code",
   "execution_count": 32,
   "metadata": {},
   "outputs": [],
   "source": [
    "ytrain_hat = np.array([classify(x) for x in Xtrain])\n",
    "ytest_hat = np.array([classify(x) for x in Xtest])"
   ]
  },
  {
   "cell_type": "code",
   "execution_count": 33,
   "metadata": {},
   "outputs": [
    {
     "name": "stdout",
     "output_type": "stream",
     "text": [
      "Training accuracy:\t0.995\n",
      "Test accuracy:\t\t0.997\n"
     ]
    }
   ],
   "source": [
    "mean_train_acc = np.mean(ytrain_hat == ytrain)\n",
    "mean_test_acc = np.mean(ytest_hat == ytest)\n",
    "print('Training accuracy:\\t%4.3f' % mean_train_acc)\n",
    "print('Test accuracy:\\t\\t%4.3f' % mean_test_acc)"
   ]
  }
 ],
 "metadata": {
  "kernelspec": {
   "display_name": "Python 3",
   "language": "python",
   "name": "python3"
  },
  "language_info": {
   "codemirror_mode": {
    "name": "ipython",
    "version": 3
   },
   "file_extension": ".py",
   "mimetype": "text/x-python",
   "name": "python",
   "nbconvert_exporter": "python",
   "pygments_lexer": "ipython3",
   "version": "3.8.8"
  }
 },
 "nbformat": 4,
 "nbformat_minor": 2
}
